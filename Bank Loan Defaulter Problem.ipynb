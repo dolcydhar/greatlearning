{
 "cells": [
  {
   "cell_type": "markdown",
   "metadata": {},
   "source": [
    "# Read the dataset and display some information about the dataset (1)"
   ]
  },
  {
   "cell_type": "markdown",
   "metadata": {},
   "source": [
    "## Import required libraries and read the dataset"
   ]
  },
  {
   "cell_type": "markdown",
   "metadata": {},
   "source": [
    "### Import Libraries"
   ]
  },
  {
   "cell_type": "code",
   "execution_count": 32,
   "metadata": {},
   "outputs": [],
   "source": [
    "# import numpy as np\n",
    "import pandas as pd\n",
    "# import matplotlib.pyplot as plt\n",
    "from sklearn.preprocessing import LabelEncoder\n",
    "from imblearn.over_sampling import SMOTE\n",
    "from sklearn.model_selection import train_test_split\n",
    "from sklearn.feature_selection import SelectFromModel\n",
    "from sklearn.ensemble import ExtraTreesClassifier\n",
    "from sklearn.linear_model import LogisticRegression\n",
    "from sklearn.ensemble import RandomForestClassifier\n",
    "from sklearn.svm import SVC\n",
    "from sklearn.neighbors import KNeighborsClassifier\n",
    "from sklearn.tree import DecisionTreeClassifier\n",
    "from sklearn.model_selection import GridSearchCV\n",
    "from sklearn.metrics import accuracy_score, confusion_matrix, classification_report\n",
    "from sklearn.pipeline import Pipeline\n",
    "from sklearn.preprocessing import StandardScaler\n",
    "from sklearn.decomposition import PCA\n",
    "from collections import Counter\n"
   ]
  },
  {
   "cell_type": "markdown",
   "metadata": {},
   "source": [
    "### Import data"
   ]
  },
  {
   "cell_type": "code",
   "execution_count": 33,
   "metadata": {},
   "outputs": [],
   "source": [
    "bank_data = pd.read_csv('bank_loan_defaulter.csv')"
   ]
  },
  {
   "cell_type": "markdown",
   "metadata": {},
   "source": [
    "## Check the first few samples, shape, info of the data and try to familiarize yourself with different features."
   ]
  },
  {
   "cell_type": "code",
   "execution_count": 34,
   "metadata": {},
   "outputs": [
    {
     "name": "stdout",
     "output_type": "stream",
     "text": [
      "         ID  Loan Amount  Funded Amount  Funded Amount Investor  Term  \\\n",
      "0  65087372        10000          32236             12329.36286    59   \n",
      "1   1450153         3609          11940             12191.99692    59   \n",
      "2   1969101        28276           9311             21603.22455    59   \n",
      "3   6651430        11170           6954             17877.15585    59   \n",
      "4  14354669        16890          13226             13539.92667    59   \n",
      "\n",
      "  Batch Enrolled  Interest Rate Grade Sub Grade Employment Duration  ...  \\\n",
      "0     BAT2522922      11.135007     B        C4            MORTGAGE  ...   \n",
      "1     BAT1586599      12.237563     C        D3                RENT  ...   \n",
      "2     BAT2136391      12.545884     F        D4            MORTGAGE  ...   \n",
      "3     BAT2428731      16.731201     C        C3            MORTGAGE  ...   \n",
      "4     BAT5341619      15.008300     C        D4            MORTGAGE  ...   \n",
      "\n",
      "    Recoveries Collection Recovery Fee Collection 12 months Medical  \\\n",
      "0     2.498291                0.793724                            0   \n",
      "1     2.377215                0.974821                            0   \n",
      "2     4.316277                1.020075                            0   \n",
      "3     0.107020                0.749971                            0   \n",
      "4  1294.818751                0.368953                            0   \n",
      "\n",
      "  Application Type  Last week Pay  Accounts Delinquent  \\\n",
      "0       INDIVIDUAL             49                    0   \n",
      "1       INDIVIDUAL            109                    0   \n",
      "2       INDIVIDUAL             66                    0   \n",
      "3       INDIVIDUAL             39                    0   \n",
      "4       INDIVIDUAL             18                    0   \n",
      "\n",
      "   Total Collection Amount  Total Current Balance  \\\n",
      "0                       31                 311301   \n",
      "1                       53                 182610   \n",
      "2                       34                  89801   \n",
      "3                       40                   9189   \n",
      "4                      430                 126029   \n",
      "\n",
      "   Total Revolving Credit Limit  Loan Status  \n",
      "0                          6619            0  \n",
      "1                         20885            0  \n",
      "2                         26155            0  \n",
      "3                         60214            0  \n",
      "4                         22579            0  \n",
      "\n",
      "[5 rows x 35 columns]\n",
      "(67463, 35)\n",
      "<class 'pandas.core.frame.DataFrame'>\n",
      "RangeIndex: 67463 entries, 0 to 67462\n",
      "Data columns (total 35 columns):\n",
      " #   Column                        Non-Null Count  Dtype  \n",
      "---  ------                        --------------  -----  \n",
      " 0   ID                            67463 non-null  int64  \n",
      " 1   Loan Amount                   67463 non-null  int64  \n",
      " 2   Funded Amount                 67463 non-null  int64  \n",
      " 3   Funded Amount Investor        67463 non-null  float64\n",
      " 4   Term                          67463 non-null  int64  \n",
      " 5   Batch Enrolled                67463 non-null  object \n",
      " 6   Interest Rate                 67463 non-null  float64\n",
      " 7   Grade                         67463 non-null  object \n",
      " 8   Sub Grade                     67463 non-null  object \n",
      " 9   Employment Duration           67463 non-null  object \n",
      " 10  Home Ownership                67463 non-null  float64\n",
      " 11  Verification Status           67463 non-null  object \n",
      " 12  Payment Plan                  67463 non-null  object \n",
      " 13  Loan Title                    67463 non-null  object \n",
      " 14  Debit to Income               67463 non-null  float64\n",
      " 15  Delinquency - two years       67463 non-null  int64  \n",
      " 16  Inquires - six months         67463 non-null  int64  \n",
      " 17  Open Account                  67463 non-null  int64  \n",
      " 18  Public Record                 67463 non-null  int64  \n",
      " 19  Revolving Balance             67463 non-null  int64  \n",
      " 20  Revolving Utilities           67463 non-null  float64\n",
      " 21  Total Accounts                67463 non-null  int64  \n",
      " 22  Initial List Status           67463 non-null  object \n",
      " 23  Total Received Interest       67463 non-null  float64\n",
      " 24  Total Received Late Fee       67463 non-null  float64\n",
      " 25  Recoveries                    67463 non-null  float64\n",
      " 26  Collection Recovery Fee       67463 non-null  float64\n",
      " 27  Collection 12 months Medical  67463 non-null  int64  \n",
      " 28  Application Type              67463 non-null  object \n",
      " 29  Last week Pay                 67463 non-null  int64  \n",
      " 30  Accounts Delinquent           67463 non-null  int64  \n",
      " 31  Total Collection Amount       67463 non-null  int64  \n",
      " 32  Total Current Balance         67463 non-null  int64  \n",
      " 33  Total Revolving Credit Limit  67463 non-null  int64  \n",
      " 34  Loan Status                   67463 non-null  int64  \n",
      "dtypes: float64(9), int64(17), object(9)\n",
      "memory usage: 18.0+ MB\n",
      "None\n"
     ]
    }
   ],
   "source": [
    "print(bank_data.head())\n",
    "print(bank_data.shape)\n",
    "print(bank_data.info())\n"
   ]
  },
  {
   "cell_type": "markdown",
   "metadata": {},
   "source": [
    "# Data cleansing and Exploratory data analysis (3)"
   ]
  },
  {
   "cell_type": "markdown",
   "metadata": {},
   "source": [
    "## Check if there are any duplicate records in the dataset? if any drop them"
   ]
  },
  {
   "cell_type": "code",
   "execution_count": 35,
   "metadata": {},
   "outputs": [
    {
     "name": "stdout",
     "output_type": "stream",
     "text": [
      "0\n"
     ]
    }
   ],
   "source": [
    "print(bank_data.duplicated().sum())\n",
    "bank_data = bank_data.drop_duplicates()\n"
   ]
  },
  {
   "cell_type": "markdown",
   "metadata": {},
   "source": [
    "## check the percentage of missing values, if any? treat them with appropriate methods."
   ]
  },
  {
   "cell_type": "code",
   "execution_count": 36,
   "metadata": {},
   "outputs": [
    {
     "name": "stdout",
     "output_type": "stream",
     "text": [
      "ID                              0\n",
      "Loan Amount                     0\n",
      "Funded Amount                   0\n",
      "Funded Amount Investor          0\n",
      "Term                            0\n",
      "Batch Enrolled                  0\n",
      "Interest Rate                   0\n",
      "Grade                           0\n",
      "Sub Grade                       0\n",
      "Employment Duration             0\n",
      "Home Ownership                  0\n",
      "Verification Status             0\n",
      "Payment Plan                    0\n",
      "Loan Title                      0\n",
      "Debit to Income                 0\n",
      "Delinquency - two years         0\n",
      "Inquires - six months           0\n",
      "Open Account                    0\n",
      "Public Record                   0\n",
      "Revolving Balance               0\n",
      "Revolving Utilities             0\n",
      "Total Accounts                  0\n",
      "Initial List Status             0\n",
      "Total Received Interest         0\n",
      "Total Received Late Fee         0\n",
      "Recoveries                      0\n",
      "Collection Recovery Fee         0\n",
      "Collection 12 months Medical    0\n",
      "Application Type                0\n",
      "Last week Pay                   0\n",
      "Accounts Delinquent             0\n",
      "Total Collection Amount         0\n",
      "Total Current Balance           0\n",
      "Total Revolving Credit Limit    0\n",
      "Loan Status                     0\n",
      "dtype: int64\n",
      "ID                              0.0\n",
      "Loan Amount                     0.0\n",
      "Funded Amount                   0.0\n",
      "Funded Amount Investor          0.0\n",
      "Term                            0.0\n",
      "Batch Enrolled                  0.0\n",
      "Interest Rate                   0.0\n",
      "Grade                           0.0\n",
      "Sub Grade                       0.0\n",
      "Employment Duration             0.0\n",
      "Home Ownership                  0.0\n",
      "Verification Status             0.0\n",
      "Payment Plan                    0.0\n",
      "Loan Title                      0.0\n",
      "Debit to Income                 0.0\n",
      "Delinquency - two years         0.0\n",
      "Inquires - six months           0.0\n",
      "Open Account                    0.0\n",
      "Public Record                   0.0\n",
      "Revolving Balance               0.0\n",
      "Revolving Utilities             0.0\n",
      "Total Accounts                  0.0\n",
      "Initial List Status             0.0\n",
      "Total Received Interest         0.0\n",
      "Total Received Late Fee         0.0\n",
      "Recoveries                      0.0\n",
      "Collection Recovery Fee         0.0\n",
      "Collection 12 months Medical    0.0\n",
      "Application Type                0.0\n",
      "Last week Pay                   0.0\n",
      "Accounts Delinquent             0.0\n",
      "Total Collection Amount         0.0\n",
      "Total Current Balance           0.0\n",
      "Total Revolving Credit Limit    0.0\n",
      "Loan Status                     0.0\n",
      "dtype: float64\n"
     ]
    }
   ],
   "source": [
    "print(bank_data.isnull().sum())\n",
    "print(bank_data.isnull().sum()/bank_data.shape[0]*100)\n"
   ]
  },
  {
   "cell_type": "markdown",
   "metadata": {},
   "source": [
    "## Check summary statistics of the dataset, and write your key observations."
   ]
  },
  {
   "cell_type": "code",
   "execution_count": 37,
   "metadata": {},
   "outputs": [
    {
     "name": "stdout",
     "output_type": "stream",
     "text": [
      "                 ID   Loan Amount  Funded Amount  Funded Amount Investor  \\\n",
      "count  6.746300e+04  67463.000000   67463.000000            67463.000000   \n",
      "mean   2.562761e+07  16848.902776   15770.599114            14621.799323   \n",
      "std    2.109155e+07   8367.865726    8150.992662             6785.345170   \n",
      "min    1.297933e+06   1014.000000    1014.000000             1114.590204   \n",
      "25%    6.570288e+06  10012.000000    9266.500000             9831.684984   \n",
      "50%    1.791565e+07  16073.000000   13042.000000            12793.682170   \n",
      "75%    4.271521e+07  22106.000000   21793.000000            17807.594120   \n",
      "max    7.224578e+07  35000.000000   34999.000000            34999.746430   \n",
      "\n",
      "               Term  Interest Rate  Home Ownership  Debit to Income  \\\n",
      "count  67463.000000   67463.000000    67463.000000     67463.000000   \n",
      "mean      58.173814      11.846258    80541.502522        23.299241   \n",
      "std        3.327441       3.718629    45029.120366         8.451824   \n",
      "min       36.000000       5.320006    14573.537170         0.675299   \n",
      "25%       58.000000       9.297147    51689.843335        16.756416   \n",
      "50%       59.000000      11.377696    69335.832680        22.656658   \n",
      "75%       59.000000      14.193533    94623.322785        30.048400   \n",
      "max       59.000000      27.182348   406561.536400        39.629862   \n",
      "\n",
      "       Delinquency - two years  Inquires - six months  ...  \\\n",
      "count             67463.000000           67463.000000  ...   \n",
      "mean                  0.327127               0.145754  ...   \n",
      "std                   0.800888               0.473291  ...   \n",
      "min                   0.000000               0.000000  ...   \n",
      "25%                   0.000000               0.000000  ...   \n",
      "50%                   0.000000               0.000000  ...   \n",
      "75%                   0.000000               0.000000  ...   \n",
      "max                   8.000000               5.000000  ...   \n",
      "\n",
      "       Total Received Late Fee    Recoveries  Collection Recovery Fee  \\\n",
      "count             67463.000000  67463.000000             67463.000000   \n",
      "mean                  1.143969     59.691578                 1.125141   \n",
      "std                   5.244365    357.026346                 3.489885   \n",
      "min                   0.000003      0.000036                 0.000036   \n",
      "25%                   0.021114      1.629818                 0.476259   \n",
      "50%                   0.043398      3.344524                 0.780141   \n",
      "75%                   0.071884      5.453727                 1.070566   \n",
      "max                  42.618882   4354.467419               166.833000   \n",
      "\n",
      "       Collection 12 months Medical  Last week Pay  Accounts Delinquent  \\\n",
      "count                  67463.000000   67463.000000              67463.0   \n",
      "mean                       0.021301      71.163260                  0.0   \n",
      "std                        0.144385      43.315845                  0.0   \n",
      "min                        0.000000       0.000000                  0.0   \n",
      "25%                        0.000000      35.000000                  0.0   \n",
      "50%                        0.000000      68.000000                  0.0   \n",
      "75%                        0.000000     105.000000                  0.0   \n",
      "max                        1.000000     161.000000                  0.0   \n",
      "\n",
      "       Total Collection Amount  Total Current Balance  \\\n",
      "count             67463.000000           6.746300e+04   \n",
      "mean                146.467990           1.595739e+05   \n",
      "std                 744.382233           1.390332e+05   \n",
      "min                   1.000000           6.170000e+02   \n",
      "25%                  24.000000           5.037900e+04   \n",
      "50%                  36.000000           1.183690e+05   \n",
      "75%                  46.000000           2.283750e+05   \n",
      "max               16421.000000           1.177412e+06   \n",
      "\n",
      "       Total Revolving Credit Limit   Loan Status  \n",
      "count                  67463.000000  67463.000000  \n",
      "mean                   23123.005544      0.092510  \n",
      "std                    20916.699999      0.289747  \n",
      "min                     1000.000000      0.000000  \n",
      "25%                     8155.500000      0.000000  \n",
      "50%                    16733.000000      0.000000  \n",
      "75%                    32146.500000      0.000000  \n",
      "max                   201169.000000      1.000000  \n",
      "\n",
      "[8 rows x 26 columns]\n",
      "       Batch Enrolled  Grade Sub Grade Employment Duration  \\\n",
      "count           67463  67463     67463               67463   \n",
      "unique             41      7        35                   3   \n",
      "top        BAT3873588      C        B4            MORTGAGE   \n",
      "freq             3626  19085      4462               36351   \n",
      "\n",
      "       Verification Status Payment Plan               Loan Title  \\\n",
      "count                67463        67463                    67463   \n",
      "unique                   3            1                      109   \n",
      "top        Source Verified            n  Credit card refinancing   \n",
      "freq                 33036        67463                    30728   \n",
      "\n",
      "       Initial List Status Application Type  \n",
      "count                67463            67463  \n",
      "unique                   2                2  \n",
      "top                      w       INDIVIDUAL  \n",
      "freq                 36299            67340  \n"
     ]
    }
   ],
   "source": [
    "print(bank_data.describe())\n",
    "print(bank_data.describe(include='O'))\n"
   ]
  },
  {
   "cell_type": "markdown",
   "metadata": {},
   "source": [
    "## Drop the columns which you think redundant for the analysis"
   ]
  },
  {
   "cell_type": "code",
   "execution_count": 38,
   "metadata": {},
   "outputs": [],
   "source": [
    "bank_data = bank_data.drop(['ID', 'Batch Enrolled', 'Payment Plan', 'Loan Title', \n",
    "                            'Employment Duration', \n",
    "                            'Home Ownership', 'Loan Title', \n",
    "                            'Initial List Status', 'Recoveries', \n",
    "                            'Collection Recovery Fee', \n",
    "                            'Collection 12 months Medical'], axis=1)\n"
   ]
  },
  {
   "cell_type": "markdown",
   "metadata": {},
   "source": [
    "## Perform necessary univariate and multivariate analysis."
   ]
  },
  {
   "cell_type": "markdown",
   "metadata": {},
   "source": [
    "### Univariate Analysis"
   ]
  },
  {
   "cell_type": "code",
   "execution_count": 39,
   "metadata": {},
   "outputs": [
    {
     "data": {
      "text/plain": [
       "15932    13\n",
       "14424    12\n",
       "15800    11\n",
       "15639    11\n",
       "15118    11\n",
       "         ..\n",
       "2588      1\n",
       "33968     1\n",
       "5420      1\n",
       "12285     1\n",
       "8323      1\n",
       "Name: Loan Amount, Length: 27525, dtype: int64"
      ]
     },
     "execution_count": 39,
     "metadata": {},
     "output_type": "execute_result"
    }
   ],
   "source": [
    "bank_data['Loan Amount'].value_counts()\n"
   ]
  },
  {
   "cell_type": "code",
   "execution_count": 40,
   "metadata": {},
   "outputs": [
    {
     "data": {
      "text/plain": [
       "<AxesSubplot: >"
      ]
     },
     "execution_count": 40,
     "metadata": {},
     "output_type": "execute_result"
    },
    {
     "data": {
      "image/png": "[encoded data removed]",
      "text/plain": [
       "<Figure size 640x480 with 1 Axes>"
      ]
     },
     "metadata": {},
     "output_type": "display_data"
    }
   ],
   "source": [
    "bank_data['Term'].value_counts(normalize=True).plot.bar()\n"
   ]
  },
  {
   "cell_type": "code",
   "execution_count": 41,
   "metadata": {},
   "outputs": [
    {
     "data": {
      "text/plain": [
       "6.191126     2\n",
       "8.637499     2\n",
       "9.996611     2\n",
       "9.530343     2\n",
       "11.978370    2\n",
       "            ..\n",
       "12.052329    1\n",
       "16.739702    1\n",
       "7.406152     1\n",
       "19.632720    1\n",
       "16.034631    1\n",
       "Name: Interest Rate, Length: 67448, dtype: int64"
      ]
     },
     "execution_count": 41,
     "metadata": {},
     "output_type": "execute_result"
    }
   ],
   "source": [
    "bank_data['Interest Rate'].value_counts()\n"
   ]
  },
  {
   "cell_type": "code",
   "execution_count": 42,
   "metadata": {},
   "outputs": [
    {
     "data": {
      "text/plain": [
       "count    67463.000000\n",
       "mean        11.846258\n",
       "std          3.718629\n",
       "min          5.320006\n",
       "25%          9.297147\n",
       "50%         11.377696\n",
       "75%         14.193533\n",
       "max         27.182348\n",
       "Name: Interest Rate, dtype: float64"
      ]
     },
     "execution_count": 42,
     "metadata": {},
     "output_type": "execute_result"
    }
   ],
   "source": [
    "bank_data['Interest Rate'].describe()\n"
   ]
  },
  {
   "cell_type": "code",
   "execution_count": 43,
   "metadata": {},
   "outputs": [
    {
     "data": {
      "text/plain": [
       "24.977361    2\n",
       "22.368527    2\n",
       "18.792519    2\n",
       "35.467099    2\n",
       "24.505453    2\n",
       "            ..\n",
       "27.764362    1\n",
       "35.819821    1\n",
       "30.352185    1\n",
       "27.560373    1\n",
       "16.052112    1\n",
       "Name: Debit to Income, Length: 67454, dtype: int64"
      ]
     },
     "execution_count": 43,
     "metadata": {},
     "output_type": "execute_result"
    }
   ],
   "source": [
    "bank_data['Debit to Income'].value_counts()\n"
   ]
  },
  {
   "cell_type": "code",
   "execution_count": 44,
   "metadata": {},
   "outputs": [
    {
     "data": {
      "text/plain": [
       "count    67463.000000\n",
       "mean        23.299241\n",
       "std          8.451824\n",
       "min          0.675299\n",
       "25%         16.756416\n",
       "50%         22.656658\n",
       "75%         30.048400\n",
       "max         39.629862\n",
       "Name: Debit to Income, dtype: float64"
      ]
     },
     "execution_count": 44,
     "metadata": {},
     "output_type": "execute_result"
    }
   ],
   "source": [
    "bank_data['Debit to Income'].describe()\n"
   ]
  },
  {
   "cell_type": "code",
   "execution_count": 45,
   "metadata": {},
   "outputs": [
    {
     "data": {
      "text/plain": [
       "<AxesSubplot: >"
      ]
     },
     "execution_count": 45,
     "metadata": {},
     "output_type": "execute_result"
    },
    {
     "data": {
      "image/png": "[encoded data removed]",
      "text/plain": [
       "<Figure size 640x480 with 1 Axes>"
      ]
     },
     "metadata": {},
     "output_type": "display_data"
    }
   ],
   "source": [
    "bank_data['Loan Status'].value_counts(normalize=True).plot.bar()\n"
   ]
  },
  {
   "cell_type": "markdown",
   "metadata": {},
   "source": [
    "### Multivariate Analysis"
   ]
  },
  {
   "cell_type": "code",
   "execution_count": null,
   "metadata": {},
   "outputs": [],
   "source": []
  },
  {
   "cell_type": "markdown",
   "metadata": {},
   "source": [
    "## Check the distribution of the target column 'Loan Status', and comment on the class distribution"
   ]
  },
  {
   "cell_type": "code",
   "execution_count": 46,
   "metadata": {},
   "outputs": [
    {
     "name": "stdout",
     "output_type": "stream",
     "text": [
      "0    61222\n",
      "1     6241\n",
      "Name: Loan Status, dtype: int64\n",
      "0    90.749003\n",
      "1     9.250997\n",
      "Name: Loan Status, dtype: float64\n"
     ]
    }
   ],
   "source": [
    "print(bank_data['Loan Status'].value_counts())\n",
    "print(bank_data['Loan Status'].value_counts()/bank_data.shape[0]*100)\n"
   ]
  },
  {
   "cell_type": "markdown",
   "metadata": {},
   "source": [
    "- It appears that there is only about a 10% loan defaulter rate. "
   ]
  },
  {
   "cell_type": "markdown",
   "metadata": {},
   "source": [
    "# Data preparation for model building (5)"
   ]
  },
  {
   "cell_type": "markdown",
   "metadata": {},
   "source": [
    "## Segregate the target and independent features."
   ]
  },
  {
   "cell_type": "code",
   "execution_count": 47,
   "metadata": {},
   "outputs": [],
   "source": [
    "X = bank_data.drop('Loan Status', axis=1)\n",
    "y = bank_data['Loan Status']\n"
   ]
  },
  {
   "cell_type": "markdown",
   "metadata": {},
   "source": [
    "## Encode the categorical data."
   ]
  },
  {
   "cell_type": "code",
   "execution_count": 48,
   "metadata": {},
   "outputs": [],
   "source": [
    "le = LabelEncoder()\n",
    "X['Grade'] = le.fit_transform(X['Grade'])\n",
    "X['Sub Grade'] = le.fit_transform(X['Sub Grade'])\n",
    "X['Verification Status'] = le.fit_transform(X['Verification Status'])\n",
    "X['Application Type'] = le.fit_transform(X['Application Type'])\n",
    "\n",
    "X_unbalanced = X.copy()\n",
    "y_unbalanced = y.copy()\n"
   ]
  },
  {
   "cell_type": "markdown",
   "metadata": {},
   "source": [
    "## Handle the imbalanced data using oversampling or under sampling approach, and check the distribution of the re-sampled target class.\n"
   ]
  },
  {
   "cell_type": "code",
   "execution_count": 49,
   "metadata": {},
   "outputs": [
    {
     "name": "stdout",
     "output_type": "stream",
     "text": [
      "Counter({0: 61222, 1: 30611})\n"
     ]
    }
   ],
   "source": [
    "smote = SMOTE(sampling_strategy=0.5)\n",
    "X, y = smote.fit_resample(X, y)\n",
    "print(Counter(y))\n"
   ]
  },
  {
   "cell_type": "markdown",
   "metadata": {},
   "source": [
    "## Select the K best features using wrapper or embedded methods."
   ]
  },
  {
   "cell_type": "code",
   "execution_count": 50,
   "metadata": {},
   "outputs": [
    {
     "name": "stdout",
     "output_type": "stream",
     "text": [
      "(91833, 24)\n"
     ]
    }
   ],
   "source": [
    "print(X.shape)"
   ]
  },
  {
   "cell_type": "code",
   "execution_count": 51,
   "metadata": {},
   "outputs": [
    {
     "name": "stdout",
     "output_type": "stream",
     "text": [
      "[0.05102549 0.05115499 0.05001895 0.03824877 0.05199133 0.040167\n",
      " 0.05085027 0.04288974 0.05861305 0.02374858 0.01291737 0.04898669\n",
      " 0.01057637 0.05014251 0.05376529 0.04906948 0.05177225 0.05552004\n",
      " 0.00042546 0.05954465 0.         0.04616787 0.05225526 0.05014859]\n"
     ]
    }
   ],
   "source": [
    "clf = ExtraTreesClassifier()\n",
    "clf = clf.fit(X, y)\n",
    "print(clf.feature_importances_)\n"
   ]
  },
  {
   "cell_type": "code",
   "execution_count": 52,
   "metadata": {},
   "outputs": [
    {
     "name": "stdout",
     "output_type": "stream",
     "text": [
      "(91833, 17)\n"
     ]
    },
    {
     "name": "stderr",
     "output_type": "stream",
     "text": [
      "c:\\Users\\jayan\\AppData\\Local\\Programs\\Python\\Python310\\lib\\site-packages\\sklearn\\base.py:402: UserWarning: X has feature names, but SelectFromModel was fitted without feature names\n",
      "  warnings.warn(\n"
     ]
    }
   ],
   "source": [
    "model = SelectFromModel(clf, prefit=True)\n",
    "X = model.transform(X)\n",
    "print(X.shape)\n"
   ]
  },
  {
   "cell_type": "markdown",
   "metadata": {},
   "source": [
    "## Split the data into train and test"
   ]
  },
  {
   "cell_type": "code",
   "execution_count": 53,
   "metadata": {},
   "outputs": [],
   "source": [
    "from sklearn.model_selection import train_test_split\n",
    "X_train, X_test, y_train, y_test = train_test_split(\n",
    "    X, y, test_size=0.3, random_state=42)\n"
   ]
  },
  {
   "cell_type": "markdown",
   "metadata": {},
   "source": [
    "# Model Building and evaluation (5)"
   ]
  },
  {
   "cell_type": "markdown",
   "metadata": {},
   "source": [
    "## Build a base model using the Original Imbalanced data."
   ]
  },
  {
   "cell_type": "code",
   "execution_count": 54,
   "metadata": {},
   "outputs": [
    {
     "name": "stdout",
     "output_type": "stream",
     "text": [
      "Accuracy Score:  0.9084440930876031 \n",
      "\n",
      "Confusion Matrix: \n",
      " [[18386     0]\n",
      " [ 1853     0]] \n",
      "\n",
      "Classification Report: \n",
      "               precision    recall  f1-score   support\n",
      "\n",
      "           0       0.91      1.00      0.95     18386\n",
      "           1       0.00      0.00      0.00      1853\n",
      "\n",
      "    accuracy                           0.91     20239\n",
      "   macro avg       0.45      0.50      0.48     20239\n",
      "weighted avg       0.83      0.91      0.86     20239\n",
      " \n",
      "\n"
     ]
    },
    {
     "name": "stderr",
     "output_type": "stream",
     "text": [
      "c:\\Users\\jayan\\AppData\\Local\\Programs\\Python\\Python310\\lib\\site-packages\\sklearn\\linear_model\\_logistic.py:458: ConvergenceWarning: lbfgs failed to converge (status=1):\n",
      "STOP: TOTAL NO. of ITERATIONS REACHED LIMIT.\n",
      "\n",
      "Increase the number of iterations (max_iter) or scale the data as shown in:\n",
      "    https://scikit-learn.org/stable/modules/preprocessing.html\n",
      "Please also refer to the documentation for alternative solver options:\n",
      "    https://scikit-learn.org/stable/modules/linear_model.html#logistic-regression\n",
      "  n_iter_i = _check_optimize_result(\n",
      "c:\\Users\\jayan\\AppData\\Local\\Programs\\Python\\Python310\\lib\\site-packages\\sklearn\\metrics\\_classification.py:1344: UndefinedMetricWarning: Precision and F-score are ill-defined and being set to 0.0 in labels with no predicted samples. Use `zero_division` parameter to control this behavior.\n",
      "  _warn_prf(average, modifier, msg_start, len(result))\n",
      "c:\\Users\\jayan\\AppData\\Local\\Programs\\Python\\Python310\\lib\\site-packages\\sklearn\\metrics\\_classification.py:1344: UndefinedMetricWarning: Precision and F-score are ill-defined and being set to 0.0 in labels with no predicted samples. Use `zero_division` parameter to control this behavior.\n",
      "  _warn_prf(average, modifier, msg_start, len(result))\n",
      "c:\\Users\\jayan\\AppData\\Local\\Programs\\Python\\Python310\\lib\\site-packages\\sklearn\\metrics\\_classification.py:1344: UndefinedMetricWarning: Precision and F-score are ill-defined and being set to 0.0 in labels with no predicted samples. Use `zero_division` parameter to control this behavior.\n",
      "  _warn_prf(average, modifier, msg_start, len(result))\n"
     ]
    }
   ],
   "source": [
    "logreg = LogisticRegression()\n",
    "X_unbalanced_train, X_unbalanced_test, y_unbalanced_train, y_unbalanced_test = train_test_split(\n",
    "    X_unbalanced, y_unbalanced, test_size=0.3, random_state=42)\n",
    "logreg.fit(X_unbalanced_train, y_unbalanced_train)\n",
    "y_unbalanced_pred = logreg.predict(X_unbalanced_test)\n",
    "print(\"Accuracy Score: \", accuracy_score(y_unbalanced_test, y_unbalanced_pred), \"\\n\")\n",
    "print(\"Confusion Matrix: \\n\", confusion_matrix(\n",
    "    y_unbalanced_test, y_unbalanced_pred), \"\\n\")\n",
    "print(\"Classification Report: \\n\", classification_report(\n",
    "    y_unbalanced_test, y_unbalanced_pred), \"\\n\")\n"
   ]
  },
  {
   "cell_type": "markdown",
   "metadata": {},
   "source": [
    "## Try multiple models and tune their hyperparameters with appropriate methods and report the best performing model"
   ]
  },
  {
   "cell_type": "markdown",
   "metadata": {},
   "source": [
    "### Random Forest - Hyperparameter Tuning"
   ]
  },
  {
   "cell_type": "code",
   "execution_count": 55,
   "metadata": {},
   "outputs": [],
   "source": [
    "# rf = RandomForestClassifier()\n",
    "# param_grid = {'n_estimators': [100, 200, 300, 400, 500],\n",
    "#               'max_depth': [5, 10, 15, 20, 25, 30],\n",
    "#               'min_samples_split': [2, 5, 10, 15, 100],\n",
    "#               'min_samples_leaf': [1, 2, 5, 10]}\n",
    "# grid_search = GridSearchCV(\n",
    "#     estimator=rf, param_grid=param_grid, cv=3, n_jobs=-1, verbose=2)\n",
    "# grid_search.fit(X_train, y_train)\n",
    "# print(grid_search.best_params_)\n",
    "# print(grid_search.best_score_)\n"
   ]
  },
  {
   "cell_type": "markdown",
   "metadata": {},
   "source": [
    "- The best parameeters came out to be: ['max_depth': 20, 'min_samples_leaf': 2, 'min_samples_split': 5, 'n_estimators': 200]\n",
    "- With score: 0.7386006592198967"
   ]
  },
  {
   "cell_type": "code",
   "execution_count": 56,
   "metadata": {},
   "outputs": [
    {
     "name": "stdout",
     "output_type": "stream",
     "text": [
      "Accuracy Score:  0.7749909255898366 \n",
      "\n",
      "Confusion Matrix: \n",
      " [[16756  1626]\n",
      " [ 4573  4595]] \n",
      "\n",
      "Classification Report: \n",
      "               precision    recall  f1-score   support\n",
      "\n",
      "           0       0.79      0.91      0.84     18382\n",
      "           1       0.74      0.50      0.60      9168\n",
      "\n",
      "    accuracy                           0.77     27550\n",
      "   macro avg       0.76      0.71      0.72     27550\n",
      "weighted avg       0.77      0.77      0.76     27550\n",
      " \n",
      "\n"
     ]
    }
   ],
   "source": [
    "rf = RandomForestClassifier(\n",
    "    n_estimators=200, min_samples_split=5, min_samples_leaf=2, max_depth=20)\n",
    "rf.fit(X_train, y_train)\n",
    "y_pred = rf.predict(X_test)\n",
    "print(\"Accuracy Score: \", accuracy_score(y_test, y_pred), '\\n')\n",
    "print(\"Confusion Matrix: \\n\", confusion_matrix(y_test, y_pred), '\\n')\n",
    "print(\"Classification Report: \\n\", classification_report(y_test, y_pred), '\\n')\n"
   ]
  },
  {
   "cell_type": "markdown",
   "metadata": {},
   "source": [
    "### SVM - Hyperparameter Tuning"
   ]
  },
  {
   "cell_type": "code",
   "execution_count": null,
   "metadata": {},
   "outputs": [],
   "source": [
    "# svc = SVC()\n",
    "# param_grid = {'C': [0.1, 1, 10, 100, 1000],\n",
    "#               'gamma': [1, 0.1, 0.01, 0.001, 0.0001],\n",
    "#               'kernel': ['rbf']}\n",
    "# grid_search = GridSearchCV(\n",
    "#     estimator=svc, param_grid=param_grid, cv=3, n_jobs=-1, verbose=2)\n",
    "# grid_search.fit(X_train, y_train)\n",
    "# print(grid_search.best_params_)\n",
    "# print(grid_search.best_score_)\n",
    "\n"
   ]
  },
  {
   "cell_type": "markdown",
   "metadata": {},
   "source": [
    "- The best parameters came out to be: ['C': 10, 'gamma': 0.0001, 'kernel': 'rbf']\n",
    "- With score: 0.6718000937627601"
   ]
  },
  {
   "cell_type": "code",
   "execution_count": 57,
   "metadata": {},
   "outputs": [
    {
     "name": "stdout",
     "output_type": "stream",
     "text": [
      "Accuracy Score:  0.6823230490018148 \n",
      "\n",
      "Confusion Matrix: \n",
      " [[18382     0]\n",
      " [ 8752   416]] \n",
      "\n",
      "Classification Report: \n",
      "               precision    recall  f1-score   support\n",
      "\n",
      "           0       0.68      1.00      0.81     18382\n",
      "           1       1.00      0.05      0.09      9168\n",
      "\n",
      "    accuracy                           0.68     27550\n",
      "   macro avg       0.84      0.52      0.45     27550\n",
      "weighted avg       0.78      0.68      0.57     27550\n",
      " \n",
      "\n"
     ]
    }
   ],
   "source": [
    "# svc = SVC(C=10, gamma=0.0001, kernel='rbf')\n",
    "# svc.fit(X_train, y_train)\n",
    "# y_pred = svc.predict(X_test)\n",
    "# print(\"Accuracy Score: \", accuracy_score(y_test, y_pred), '\\n')\n",
    "# print(\"Confusion Matrix: \\n\", confusion_matrix(y_test, y_pred), '\\n')\n",
    "# print(\"Classification Report: \\n\", classification_report(y_test, y_pred), '\\n')\n"
   ]
  },
  {
   "cell_type": "markdown",
   "metadata": {},
   "source": [
    "- SVM model took >192 mins to run, hence it is commented out. \n",
    "- Output: \n",
    "\n",
    "Accuracy Score:  0.6823230490018148 \n",
    "\n",
    "Confusion Matrix: \n",
    " [[18382     0]\n",
    " [ 8752   416]] \n",
    "\n",
    "Classification Report: \n",
    "               precision    recall  f1-score   support\n",
    "\n",
    "           0       0.68      1.00      0.81     18382\n",
    "           1       1.00      0.05      0.09      9168\n",
    "\n",
    "    accuracy                           0.68     27550\n",
    "   macro avg       0.84      0.52      0.45     27550\n",
    "weighted avg       0.78      0.68      0.57     27550"
   ]
  },
  {
   "cell_type": "markdown",
   "metadata": {},
   "source": [
    "### KNN - Hyperparameter Tuning"
   ]
  },
  {
   "cell_type": "code",
   "execution_count": null,
   "metadata": {},
   "outputs": [],
   "source": [
    "# knn = KNeighborsClassifier()\n",
    "# param_grid = {'n_neighbors': [3, 5, 7, 9, 11, 13, 15, 17, 19, 21],\n",
    "#               'weights': ['uniform', 'distance'],\n",
    "#               'algorithm': ['auto', 'ball_tree', 'kd_tree', 'brute']}\n",
    "# grid_search = GridSearchCV(\n",
    "#     estimator=knn, param_grid=param_grid, cv=3, n_jobs=-1, verbose=2)\n",
    "\n",
    "# grid_search.fit(X_train[:5000], y_train[:5000])\n",
    "# print(grid_search.best_params_)\n",
    "# print(grid_search.best_score_)\n"
   ]
  },
  {
   "cell_type": "markdown",
   "metadata": {},
   "source": [
    "- The best parameeters came out to be: ['algorithm': 'auto', 'n_neighbors': 17, 'weights': 'distance']\n",
    "- With score: 0.6755986137706432"
   ]
  },
  {
   "cell_type": "code",
   "execution_count": 58,
   "metadata": {},
   "outputs": [
    {
     "name": "stdout",
     "output_type": "stream",
     "text": [
      "Accuracy Score:  0.8113611615245009 \n",
      "\n",
      "Confusion Matrix: \n",
      " [[14586  3796]\n",
      " [ 1401  7767]] \n",
      "\n",
      "Classification Report: \n",
      "               precision    recall  f1-score   support\n",
      "\n",
      "           0       0.91      0.79      0.85     18382\n",
      "           1       0.67      0.85      0.75      9168\n",
      "\n",
      "    accuracy                           0.81     27550\n",
      "   macro avg       0.79      0.82      0.80     27550\n",
      "weighted avg       0.83      0.81      0.82     27550\n",
      " \n",
      "\n"
     ]
    }
   ],
   "source": [
    "knn = KNeighborsClassifier(\n",
    "    n_neighbors=17, weights='distance', algorithm='auto')\n",
    "knn.fit(X_train, y_train)\n",
    "y_pred = knn.predict(X_test)\n",
    "print(\"Accuracy Score: \", accuracy_score(y_test, y_pred), '\\n')\n",
    "print(\"Confusion Matrix: \\n\", confusion_matrix(y_test, y_pred), '\\n')\n",
    "print(\"Classification Report: \\n\", classification_report(y_test, y_pred), '\\n')\n"
   ]
  },
  {
   "cell_type": "markdown",
   "metadata": {},
   "source": [
    "### Decision Tree - Hyperparameter Tuning"
   ]
  },
  {
   "cell_type": "code",
   "execution_count": null,
   "metadata": {},
   "outputs": [],
   "source": [
    "# dt = DecisionTreeClassifier()\n",
    "# param_grid = {'criterion': ['gini', 'entropy'],\n",
    "#               'splitter': ['best', 'random'],\n",
    "#               'max_depth': [5, 10, 15, 20, 25, 30],\n",
    "#               'min_samples_split': [2, 5, 10, 15, 100],\n",
    "#               'min_samples_leaf': [1, 2, 5, 10]}\n",
    "# grid_search = GridSearchCV(\n",
    "#     estimator=dt, param_grid=param_grid, cv=3, n_jobs=-1, verbose=2)\n",
    "# grid_search.fit(X_train, y_train)\n",
    "# print(grid_search.best_params_)\n",
    "# print(grid_search.best_score_)\n"
   ]
  },
  {
   "cell_type": "markdown",
   "metadata": {},
   "source": [
    "- The best parameeters came out to be: ['criterion': 'entropy', 'max_depth': 25, 'min_samples_leaf': 10, 'min_samples_split': 100, 'splitter': 'best']\n",
    "- With score: 0.6960008958592435"
   ]
  },
  {
   "cell_type": "code",
   "execution_count": 59,
   "metadata": {},
   "outputs": [
    {
     "name": "stdout",
     "output_type": "stream",
     "text": [
      "Accuracy Score:  0.6810889292196007 \n",
      "\n",
      "Confusion Matrix: \n",
      " [[13307  5075]\n",
      " [ 3711  5457]] \n",
      "\n",
      "Classification Report: \n",
      "               precision    recall  f1-score   support\n",
      "\n",
      "           0       0.78      0.72      0.75     18382\n",
      "           1       0.52      0.60      0.55      9168\n",
      "\n",
      "    accuracy                           0.68     27550\n",
      "   macro avg       0.65      0.66      0.65     27550\n",
      "weighted avg       0.69      0.68      0.69     27550\n",
      " \n",
      "\n"
     ]
    }
   ],
   "source": [
    "dt = DecisionTreeClassifier(criterion='entropy', splitter='random',\n",
    "                            min_samples_split=2, min_samples_leaf=1, max_depth=30)\n",
    "dt.fit(X_train, y_train)\n",
    "y_pred = dt.predict(X_test)\n",
    "print(\"Accuracy Score: \", accuracy_score(y_test, y_pred), '\\n')\n",
    "print(\"Confusion Matrix: \\n\", confusion_matrix(y_test, y_pred), '\\n')\n",
    "print(\"Classification Report: \\n\", classification_report(y_test, y_pred), '\\n')\n"
   ]
  },
  {
   "cell_type": "markdown",
   "metadata": {},
   "source": [
    "# Pipeline (5)"
   ]
  },
  {
   "cell_type": "markdown",
   "metadata": {},
   "source": [
    "## Build a pipeline and put all the possible steps in the pipeline and fit the pipeline on train data and get predictions on the test data."
   ]
  },
  {
   "cell_type": "code",
   "execution_count": 62,
   "metadata": {},
   "outputs": [
    {
     "name": "stdout",
     "output_type": "stream",
     "text": [
      "0.6662881346660586\n",
      "{'clf__C': 0.1, 'clf__max_iter': 5000, 'clf__penalty': 'l2', 'clf__solver': 'liblinear'}\n",
      "Pipeline(steps=[('scl', StandardScaler()), ('pca', PCA(n_components=2)),\n",
      "                ('clf',\n",
      "                 LogisticRegression(C=0.1, max_iter=5000, random_state=1,\n",
      "                                    solver='liblinear'))])\n",
      "0.6662068965517242\n",
      "[[18331    51]\n",
      " [ 9145    23]]\n",
      "              precision    recall  f1-score   support\n",
      "\n",
      "           0       0.67      1.00      0.80     18382\n",
      "           1       0.31      0.00      0.00      9168\n",
      "\n",
      "    accuracy                           0.67     27550\n",
      "   macro avg       0.49      0.50      0.40     27550\n",
      "weighted avg       0.55      0.67      0.54     27550\n",
      "\n"
     ]
    }
   ],
   "source": [
    "\n",
    "pipe_lr = Pipeline([('scl', StandardScaler()),\n",
    "                    ('pca', PCA(n_components=2)),\n",
    "                    ('clf', LogisticRegression(random_state=1))])\n",
    "param_grid = [{'clf__penalty': ['l2'],\n",
    "               'clf__C': [0.1, 1, 10, 100, 1000],\n",
    "               'clf__solver': ['newton-cg', 'lbfgs', 'liblinear', 'sag', 'saga'],\n",
    "               'clf__max_iter': [100, 1000, 2500, 5000]}]\n",
    "gs = GridSearchCV(estimator=pipe_lr, param_grid=param_grid,\n",
    "                  scoring='accuracy', cv=3, n_jobs=-1)\n",
    "gs = gs.fit(X_train, y_train)\n",
    "print(gs.best_score_)\n",
    "print(gs.best_params_)\n",
    "print(gs.best_estimator_)\n",
    "clf = gs.best_estimator_\n",
    "clf.fit(X_train, y_train)\n",
    "y_pred = clf.predict(X_test)\n",
    "print(accuracy_score(y_test, y_pred))\n",
    "print(confusion_matrix(y_test, y_pred))\n",
    "print(classification_report(y_test, y_pred))\n"
   ]
  },
  {
   "cell_type": "markdown",
   "metadata": {},
   "source": [
    "# Conclusion (1)"
   ]
  }
 ],
 "metadata": {
  "kernelspec": {
   "display_name": "Python 3 (ipykernel)",
   "language": "python",
   "name": "python3"
  },
  "language_info": {
   "codemirror_mode": {
    "name": "ipython",
    "version": 3
   },
   "file_extension": ".py",
   "mimetype": "text/x-python",
   "name": "python",
   "nbconvert_exporter": "python",
   "pygments_lexer": "ipython3",
   "version": "3.9.13"
  },
  "vscode": {
   "interpreter": {
    "hash": "3afd31112341039edaa4c4b5dc01d7cafc37250f4a9009bb8dcb581d8cfb2ae0"
   }
  }
 },
 "nbformat": 4,
 "nbformat_minor": 2
}
